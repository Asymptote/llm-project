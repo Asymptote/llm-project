{
 "cells": [
  {
   "cell_type": "code",
   "execution_count": 15,
   "id": "970c01b6-12f5-4741-8a12-f14b39cf5676",
   "metadata": {},
   "outputs": [],
   "source": [
    "from openai import OpenAI"
   ]
  },
  {
   "cell_type": "code",
   "execution_count": 16,
   "id": "b83ff0a1-d7b6-4fef-a950-eda0a568162d",
   "metadata": {},
   "outputs": [],
   "source": [
    "import os\n",
    "api_key = os.getenv(\"OPENAI_API_KEY\")\n",
    "client = OpenAI(api_key=api_key)"
   ]
  },
  {
   "cell_type": "code",
   "execution_count": 18,
   "id": "f76d434e-d44a-41e5-8f59-115f145d8279",
   "metadata": {},
   "outputs": [],
   "source": [
    "response = client.chat.completions.create(\n",
    "    model='gpt-4o',\n",
    "    messages=[{\"role\":\"user\", \"content\":\"is it too late to join the course?\"}]\n",
    ")"
   ]
  },
  {
   "cell_type": "code",
   "execution_count": 20,
   "id": "372d24ba-dc46-423e-a49b-abed1fe7ad1c",
   "metadata": {},
   "outputs": [
    {
     "data": {
      "text/plain": [
       "ChatCompletionMessage(content=\"It's not possible for me to determine if it's too late to join a course without more context. The specific deadlines for enrolling in a course can vary widely depending on the institution, the type of course, and even the format (online or in-person). Here are a few steps you can take to find out:\\n\\n1. **Check the Course Website:** Look for enrollment deadlines on the official course or institution's website.\\n   \\n2. **Contact the Instructor or Administration:** If the information isn't available online, reach out directly to the course instructor or the admissions office for clarification.\\n\\n3. **Consider Rolling Admissions:** Some courses, particularly online ones, offer rolling admissions where you can enroll anytime.\\n\\n4. **Inquire About Late Registration:** Some institutions allow for late registration, sometimes with an added fee or requirement.\\n\\n5. **Look for Waitlists:** If enrollment is closed, ask if there is a waitlist you can join.\\n\\nIf you provide more specific details about the course, I might be able to offer more tailored advice.\", refusal=None, role='assistant', annotations=[], audio=None, function_call=None, tool_calls=None)"
      ]
     },
     "execution_count": 20,
     "metadata": {},
     "output_type": "execute_result"
    }
   ],
   "source": [
    "response.choices[0].message"
   ]
  },
  {
   "cell_type": "code",
   "execution_count": null,
   "id": "b3fea118-1e2f-4666-9db1-6150a247e291",
   "metadata": {},
   "outputs": [],
   "source": []
  }
 ],
 "metadata": {
  "kernelspec": {
   "display_name": "Python 3 (ipykernel)",
   "language": "python",
   "name": "python3"
  },
  "language_info": {
   "codemirror_mode": {
    "name": "ipython",
    "version": 3
   },
   "file_extension": ".py",
   "mimetype": "text/x-python",
   "name": "python",
   "nbconvert_exporter": "python",
   "pygments_lexer": "ipython3",
   "version": "3.12.1"
  }
 },
 "nbformat": 4,
 "nbformat_minor": 5
}
